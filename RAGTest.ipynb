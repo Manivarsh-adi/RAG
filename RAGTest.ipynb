{
 "cells": [
  {
   "cell_type": "code",
   "execution_count": 1,
   "metadata": {},
   "outputs": [],
   "source": [
    "import langchain\n",
    "from langchain.document_loaders import TextLoader"
   ]
  },
  {
   "cell_type": "code",
   "execution_count": 1,
   "metadata": {},
   "outputs": [],
   "source": [
    "OPENAI_API_KEY=\"OPENAI API KEY\""
   ]
  },
  {
   "cell_type": "markdown",
   "metadata": {},
   "source": [
    "### Loading the document"
   ]
  },
  {
   "cell_type": "code",
   "execution_count": 3,
   "metadata": {},
   "outputs": [],
   "source": [
    "loader = TextLoader('/home/manivarsh/Generative_AI/wellskyrag/MedicalReport.txt')"
   ]
  },
  {
   "cell_type": "code",
   "execution_count": 4,
   "metadata": {},
   "outputs": [],
   "source": [
    "documents = loader.load()"
   ]
  },
  {
   "cell_type": "code",
   "execution_count": 5,
   "metadata": {},
   "outputs": [
    {
     "data": {
      "text/plain": [
       "[Document(page_content='## Page 1\\n\\n**Section: Client Information**\\nClient: MOUSE, MINNIE\\nAddress: 21234 MAIN ST ANY CITY, USA 12345\\nMR No:\\nLegacy MR No:\\nAdmission Date: 1/10/2022\\n\\n**Section: Insurance Information**\\nInsured ID: 222222\\nPrimary Payor: COMMERCIAL\\n\\n**Section: Physician Information**\\nPhysician: JOHN DOE, MD\\nAddress: 14444 MAIN ST ANY CITY USA, 12345\\nPhone: (123)456-7890\\n\\n**Section: Diagnoses**\\n| Order | Code | Description | Onset/Exac. | O/E Date | Type |\\n|---|---|---|---|---|---|\\n| 1 | 195.1 | ORTHOSTATIC HYPOTENSION | ONSET | 01/04/2022 | DIAGNOSIS |\\n| 2 | R65.21 | SEVERE SEPSIS WITH SEPTIC SHOCK | EXACERBATION | 12/29/2021 | DIAGNOSIS |\\n\\n**Section: Allergies**\\n* COW MILK\\n* MIRIPIN\\n*denotes Non-Visit Ql Reporting Collection\\n\\n**Section: Medications**\\n| Start Date / End Date | Classification | Medication | Dose | Amount | Frequency | Route | Purpose | Directions for use | Side Effects/ Interactions | New/Changed | Financial Resp. | Administered | Agency | PRN | Entered By | Date |\\n|---|---|---|---|---|---|---|---|---|---|---|---|---|---|---|---|---|\\n| 1/10/2022 | GENITOURINARY THERAPY | BETHANECHOL CHLORIDE 10 MG TABLET | 1 tablet | | 3 TIMES DAILY | ORAL | N | N | N | OTH | N | N | | N | NANCY NURSE, RN | 01/10/2022 |\\n| 1/10/2022 | ELECTROLYTE BALANCE- NUTRITIONAL PRODUCTS | BIOTIN 1 MG CAPSULE | 1 capsule | | DAILY | ORAL | N | N | N | OTH | N | N | | N | NANCY NURSE, RN | 01/10/2022 |\\n| 1/10/2022 | CARDIOVASCULAR THERAPY AGENTS | IRBESARTAN 150 MG TABLET | 0.5 tablet | | DAILY | ORAL | N | N | N | OTH | N | N | | N | NANCY NURSE, RN | 01/10/2022 |\\n| 1/10/2022 | CARDIOVASCULAR THERAPY AGENTS | LABETALOL 100 MG TABLET | 1 tablet | | 3 TIMES DAILY | ORAL | N | N | N | OTH | N | N | | N | NANCY NURSE, RN | 01/10/2022 |\\n', metadata={'source': '/home/manivarsh/Generative_AI/wellskyrag/MedicalReport.txt'})]"
      ]
     },
     "execution_count": 5,
     "metadata": {},
     "output_type": "execute_result"
    }
   ],
   "source": [
    "documents"
   ]
  },
  {
   "cell_type": "markdown",
   "metadata": {},
   "source": [
    "### Chunking the doc using Markdown splittrer"
   ]
  },
  {
   "cell_type": "code",
   "execution_count": 6,
   "metadata": {},
   "outputs": [],
   "source": [
    "from langchain.text_splitter import MarkdownHeaderTextSplitter"
   ]
  },
  {
   "cell_type": "code",
   "execution_count": 7,
   "metadata": {},
   "outputs": [],
   "source": [
    "headers_to_split_on = [\n",
    "    (\"**Section: Client Information**\", \"Header 1\"),\n",
    "    (\"**Section: Insurance Information**\", \"Header 2\"),\n",
    "    (\"**Section: Diagnoses**\", \"Header 3\"),\n",
    "    (\"**Section: Allergies**\", \"Header 4\"),\n",
    "    (\"**Section: Medications**\", \"Header 5\")\n",
    "]"
   ]
  },
  {
   "cell_type": "code",
   "execution_count": 8,
   "metadata": {},
   "outputs": [],
   "source": [
    "markdown_splitter = MarkdownHeaderTextSplitter(headers_to_split_on=headers_to_split_on)"
   ]
  },
  {
   "cell_type": "code",
   "execution_count": 9,
   "metadata": {},
   "outputs": [],
   "source": [
    "md_header_splits = markdown_splitter.split_text(documents[0].page_content)"
   ]
  },
  {
   "cell_type": "code",
   "execution_count": 10,
   "metadata": {},
   "outputs": [
    {
     "data": {
      "text/plain": [
       "[Document(page_content='## Page 1'),\n",
       " Document(page_content='Client: MOUSE, MINNIE\\nAddress: 21234 MAIN ST ANY CITY, USA 12345\\nMR No:\\nLegacy MR No:\\nAdmission Date: 1/10/2022', metadata={'Header 1': ''}),\n",
       " Document(page_content='Insured ID: 222222\\nPrimary Payor: COMMERCIAL  \\n**Section: Physician Information**\\nPhysician: JOHN DOE, MD\\nAddress: 14444 MAIN ST ANY CITY USA, 12345\\nPhone: (123)456-7890', metadata={'Header 2': ''}),\n",
       " Document(page_content='| Order | Code | Description | Onset/Exac. | O/E Date | Type |\\n|---|---|---|---|---|---|\\n| 1 | 195.1 | ORTHOSTATIC HYPOTENSION | ONSET | 01/04/2022 | DIAGNOSIS |\\n| 2 | R65.21 | SEVERE SEPSIS WITH SEPTIC SHOCK | EXACERBATION | 12/29/2021 | DIAGNOSIS |', metadata={'Header 3': ''}),\n",
       " Document(page_content='* COW MILK\\n* MIRIPIN\\n*denotes Non-Visit Ql Reporting Collection', metadata={'Header 4': ''}),\n",
       " Document(page_content='| Start Date / End Date | Classification | Medication | Dose | Amount | Frequency | Route | Purpose | Directions for use | Side Effects/ Interactions | New/Changed | Financial Resp. | Administered | Agency | PRN | Entered By | Date |\\n|---|---|---|---|---|---|---|---|---|---|---|---|---|---|---|---|---|\\n| 1/10/2022 | GENITOURINARY THERAPY | BETHANECHOL CHLORIDE 10 MG TABLET | 1 tablet | | 3 TIMES DAILY | ORAL | N | N | N | OTH | N | N | | N | NANCY NURSE, RN | 01/10/2022 |\\n| 1/10/2022 | ELECTROLYTE BALANCE- NUTRITIONAL PRODUCTS | BIOTIN 1 MG CAPSULE | 1 capsule | | DAILY | ORAL | N | N | N | OTH | N | N | | N | NANCY NURSE, RN | 01/10/2022 |\\n| 1/10/2022 | CARDIOVASCULAR THERAPY AGENTS | IRBESARTAN 150 MG TABLET | 0.5 tablet | | DAILY | ORAL | N | N | N | OTH | N | N | | N | NANCY NURSE, RN | 01/10/2022 |\\n| 1/10/2022 | CARDIOVASCULAR THERAPY AGENTS | LABETALOL 100 MG TABLET | 1 tablet | | 3 TIMES DAILY | ORAL | N | N | N | OTH | N | N | | N | NANCY NURSE, RN | 01/10/2022 |', metadata={'Header 5': ''})]"
      ]
     },
     "execution_count": 10,
     "metadata": {},
     "output_type": "execute_result"
    }
   ],
   "source": [
    "md_header_splits"
   ]
  },
  {
   "cell_type": "markdown",
   "metadata": {},
   "source": [
    "### Chunking with CharacterTestSplitter"
   ]
  },
  {
   "cell_type": "code",
   "execution_count": 11,
   "metadata": {},
   "outputs": [
    {
     "name": "stderr",
     "output_type": "stream",
     "text": [
      "Created a chunk of size 143, which is longer than the specified 30\n",
      "Created a chunk of size 79, which is longer than the specified 30\n",
      "Created a chunk of size 122, which is longer than the specified 30\n",
      "Created a chunk of size 273, which is longer than the specified 30\n",
      "Created a chunk of size 86, which is longer than the specified 30\n"
     ]
    }
   ],
   "source": [
    "from langchain.text_splitter import CharacterTextSplitter\n",
    "text_splitter = CharacterTextSplitter(chunk_size=30, chunk_overlap=10)\n",
    "chunks = text_splitter.split_documents(documents)"
   ]
  },
  {
   "cell_type": "markdown",
   "metadata": {},
   "source": [
    "### Embeddings"
   ]
  },
  {
   "cell_type": "code",
   "execution_count": 12,
   "metadata": {},
   "outputs": [],
   "source": [
    "from langchain.embeddings import OpenAIEmbeddings\n",
    "from langchain.vectorstores import Weaviate\n",
    "import weaviate\n",
    "from weaviate.embedded import EmbeddedOptions"
   ]
  },
  {
   "cell_type": "code",
   "execution_count": 13,
   "metadata": {},
   "outputs": [
    {
     "name": "stderr",
     "output_type": "stream",
     "text": [
      "/home/manivarsh/anaconda3/envs/LangChain/lib/python3.12/site-packages/weaviate/warnings.py:158: DeprecationWarning: Dep016: You are using the Weaviate v3 client, which is deprecated.\n",
      "            Consider upgrading to the new and improved v4 client instead!\n",
      "            See here for usage: https://weaviate.io/developers/weaviate/client-libraries/python\n",
      "            \n",
      "  warnings.warn(\n",
      "{\"action\":\"startup\",\"default_vectorizer_module\":\"none\",\"level\":\"info\",\"msg\":\"the default vectorizer modules is set to \\\"none\\\", as a result all new schema classes without an explicit vectorizer setting, will use this vectorizer\",\"time\":\"2024-05-06T22:42:47+05:30\"}\n",
      "{\"action\":\"startup\",\"auto_schema_enabled\":true,\"level\":\"info\",\"msg\":\"auto schema enabled setting is set to \\\"true\\\"\",\"time\":\"2024-05-06T22:42:47+05:30\"}\n"
     ]
    },
    {
     "name": "stdout",
     "output_type": "stream",
     "text": [
      "Started /home/manivarsh/.cache/weaviate-embedded: process ID 52038\n"
     ]
    },
    {
     "name": "stderr",
     "output_type": "stream",
     "text": [
      "{\"level\":\"info\",\"msg\":\"No resource limits set, weaviate will use all available memory and CPU. To limit resources, set LIMIT_RESOURCES=true\",\"time\":\"2024-05-06T22:42:47+05:30\"}\n",
      "{\"level\":\"warning\",\"msg\":\"Multiple vector spaces are present, GraphQL Explore and REST API list objects endpoint module include params has been disabled as a result.\",\"time\":\"2024-05-06T22:42:47+05:30\"}\n",
      "{\"action\":\"grpc_startup\",\"level\":\"info\",\"msg\":\"grpc server listening at [::]:50060\",\"time\":\"2024-05-06T22:42:47+05:30\"}\n",
      "{\"action\":\"restapi_management\",\"level\":\"info\",\"msg\":\"Serving weaviate at http://127.0.0.1:8079\",\"time\":\"2024-05-06T22:42:47+05:30\"}\n",
      "{\"level\":\"info\",\"msg\":\"Created shard langchain_7301eafe2316495eac3011aeb4fb41b2_vNP9kRDtXfyg in 1.08215ms\",\"time\":\"2024-05-06T22:42:47+05:30\"}\n",
      "{\"action\":\"hnsw_vector_cache_prefill\",\"count\":1000,\"index_id\":\"main\",\"level\":\"info\",\"limit\":1000000000000,\"msg\":\"prefilled vector cache\",\"time\":\"2024-05-06T22:42:47+05:30\",\"took\":76461}\n",
      "{\"level\":\"info\",\"msg\":\"Completed loading shard langchain_b1a294838c2a40c6997468572f2df2ca_Z0O5XYTDBGDJ in 8.036739ms\",\"time\":\"2024-05-06T22:42:48+05:30\"}\n",
      "{\"action\":\"hnsw_vector_cache_prefill\",\"count\":3000,\"index_id\":\"main\",\"level\":\"info\",\"limit\":1000000000000,\"msg\":\"prefilled vector cache\",\"time\":\"2024-05-06T22:42:48+05:30\",\"took\":85195}\n",
      "{\"level\":\"info\",\"msg\":\"Completed loading shard langchain_5c9fa2d3f8c6407886aa28e907b36c2e_klW59x6ydia1 in 10.259104ms\",\"time\":\"2024-05-06T22:42:48+05:30\"}\n",
      "{\"level\":\"info\",\"msg\":\"Completed loading shard langchain_d5e88c614bc7477abcc8cbe8cad1872c_gUQy9jNZsRkA in 10.241401ms\",\"time\":\"2024-05-06T22:42:48+05:30\"}\n",
      "{\"action\":\"hnsw_vector_cache_prefill\",\"count\":3000,\"index_id\":\"main\",\"level\":\"info\",\"limit\":1000000000000,\"msg\":\"prefilled vector cache\",\"time\":\"2024-05-06T22:42:48+05:30\",\"took\":62273}\n",
      "{\"action\":\"hnsw_vector_cache_prefill\",\"count\":3000,\"index_id\":\"main\",\"level\":\"info\",\"limit\":1000000000000,\"msg\":\"prefilled vector cache\",\"time\":\"2024-05-06T22:42:48+05:30\",\"took\":167180}\n"
     ]
    }
   ],
   "source": [
    "client = weaviate.Client(\n",
    "  embedded_options = EmbeddedOptions()\n",
    ")\n",
    "\n",
    "vectorstore = Weaviate.from_documents(\n",
    "    client = client,    \n",
    "    documents = chunks,\n",
    "    embedding = OpenAIEmbeddings(openai_api_key=OPENAI_API_KEY),\n",
    "    by_text = False\n",
    ")"
   ]
  },
  {
   "cell_type": "code",
   "execution_count": 14,
   "metadata": {},
   "outputs": [],
   "source": [
    "retriever = vectorstore.as_retriever()"
   ]
  },
  {
   "cell_type": "code",
   "execution_count": 15,
   "metadata": {},
   "outputs": [],
   "source": [
    "from langchain.prompts import ChatPromptTemplate\n"
   ]
  },
  {
   "cell_type": "code",
   "execution_count": 16,
   "metadata": {},
   "outputs": [],
   "source": [
    "template = \"\"\"You are a medical assitant for question-answering tasks. \n",
    "Use the following piece of retrieved context to answer the question.\n",
    "If you don't know the answer, just say that you don't know.\n",
    "Respond i am not aware, idf the information in not in priovded context.\n",
    "Use three sentence maximum and keep the answer concise.\n",
    "Question: {question}\n",
    "Context: {context}\n",
    "Answer:\n",
    "\"\"\""
   ]
  },
  {
   "cell_type": "code",
   "execution_count": 17,
   "metadata": {},
   "outputs": [],
   "source": [
    "prompt = ChatPromptTemplate.from_template(template)"
   ]
  },
  {
   "cell_type": "code",
   "execution_count": 18,
   "metadata": {},
   "outputs": [],
   "source": [
    "from langchain.chat_models import ChatOpenAI\n",
    "from langchain.schema.runnable import RunnablePassthrough\n",
    "from langchain.schema.output_parser import StrOutputParser"
   ]
  },
  {
   "cell_type": "code",
   "execution_count": 19,
   "metadata": {},
   "outputs": [],
   "source": [
    "llm = ChatOpenAI(openai_api_key=OPENAI_API_KEY, model_name=\"gpt-3.5-turbo\", temperature=0)\n",
    "\n",
    "rag_chain = (\n",
    "    {\"context\": retriever,  \"question\": RunnablePassthrough()} \n",
    "    | prompt \n",
    "    | llm\n",
    "    | StrOutputParser() \n",
    ")"
   ]
  },
  {
   "cell_type": "code",
   "execution_count": 37,
   "metadata": {},
   "outputs": [
    {
     "data": {
      "text/plain": [
       "'The patient is taking Biotin 1 mg capsule daily.'"
      ]
     },
     "execution_count": 37,
     "metadata": {},
     "output_type": "execute_result"
    }
   ],
   "source": [
    "query = \"I spateint taking Biotin?\"\n",
    "rag_chain.invoke(query)"
   ]
  },
  {
   "cell_type": "code",
   "execution_count": 38,
   "metadata": {},
   "outputs": [],
   "source": [
    "retrived_doc = retriever.invoke(query)"
   ]
  },
  {
   "cell_type": "code",
   "execution_count": 39,
   "metadata": {},
   "outputs": [
    {
     "data": {
      "text/plain": [
       "[Document(page_content='**Section: Medications**\\n| Start Date / End Date | Classification | Medication | Dose | Amount | Frequency | Route | Purpose | Directions for use | Side Effects/ Interactions | New/Changed | Financial Resp. | Administered | Agency | PRN | Entered By | Date |\\n|---|---|---|---|---|---|---|---|---|---|---|---|---|---|---|---|---|\\n| 1/10/2022 | GENITOURINARY THERAPY | BETHANECHOL CHLORIDE 10 MG TABLET | 1 tablet | | 3 TIMES DAILY | ORAL | N | N | N | OTH | N | N | | N | NANCY NURSE, RN | 01/10/2022 |\\n| 1/10/2022 | ELECTROLYTE BALANCE- NUTRITIONAL PRODUCTS | BIOTIN 1 MG CAPSULE | 1 capsule | | DAILY | ORAL | N | N | N | OTH | N | N | | N | NANCY NURSE, RN | 01/10/2022 |\\n| 1/10/2022 | CARDIOVASCULAR THERAPY AGENTS | IRBESARTAN 150 MG TABLET | 0.5 tablet | | DAILY | ORAL | N | N | N | OTH | N | N | | N | NANCY NURSE, RN | 01/10/2022 |\\n| 1/10/2022 | CARDIOVASCULAR THERAPY AGENTS | LABETALOL 100 MG TABLET | 1 tablet | | 3 TIMES DAILY | ORAL | N | N | N | OTH | N | N | | N | NANCY NURSE, RN | 01/10/2022 |', metadata={'source': '/home/manivarsh/Generative_AI/wellskyrag/MedicalReport.txt'}),\n",
       " Document(page_content='## Page 1', metadata={'source': '/home/manivarsh/Generative_AI/wellskyrag/MedicalReport.txt'})]"
      ]
     },
     "execution_count": 39,
     "metadata": {},
     "output_type": "execute_result"
    }
   ],
   "source": [
    "retrived_doc[:2]"
   ]
  },
  {
   "cell_type": "code",
   "execution_count": null,
   "metadata": {},
   "outputs": [],
   "source": []
  },
  {
   "cell_type": "code",
   "execution_count": null,
   "metadata": {},
   "outputs": [],
   "source": []
  }
 ],
 "metadata": {
  "kernelspec": {
   "display_name": "LangChain",
   "language": "python",
   "name": "python3"
  },
  "language_info": {
   "codemirror_mode": {
    "name": "ipython",
    "version": 3
   },
   "file_extension": ".py",
   "mimetype": "text/x-python",
   "name": "python",
   "nbconvert_exporter": "python",
   "pygments_lexer": "ipython3",
   "version": "3.12.3"
  }
 },
 "nbformat": 4,
 "nbformat_minor": 2
}
